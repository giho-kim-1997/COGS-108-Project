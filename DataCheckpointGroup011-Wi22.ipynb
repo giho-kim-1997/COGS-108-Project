{
 "cells": [
  {
   "cell_type": "markdown",
   "metadata": {},
   "source": [
    "# COGS 108 - Data Checkpoint"
   ]
  },
  {
   "cell_type": "markdown",
   "metadata": {},
   "source": [
    "# Names\n",
    "\n",
    "\n",
    "* Sean Hwang\n",
    "* Minhan Lee\n",
    "* Giho Kim\n",
    "* Teahyung Kim"
   ]
  },
  {
   "cell_type": "markdown",
   "metadata": {},
   "source": [
    "<a id='research_question'></a>\n",
    "# Research Question"
   ]
  },
  {
   "cell_type": "markdown",
   "metadata": {},
   "source": [
    "Is there a relationship between the height of the soccer players and their entrance to the English premier league and their performance?\n",
    "\n",
    "We will analyze the trends of the height of all positions in the English premier league from the 1950s.\n",
    "\n",
    "Also, we will analyze existing professional goalkeepers' height and performance ratings measured by FIFA, international Football Association."
   ]
  },
  {
   "cell_type": "markdown",
   "metadata": {},
   "source": [
    "# Setup"
   ]
  },
  {
   "cell_type": "code",
   "execution_count": null,
   "metadata": {},
   "outputs": [],
   "source": [
    "\"\"\" Bulitins \"\"\"\n",
    "import json\n",
    "import sqlite3\n",
    "import zipfile\n",
    "\n",
    "\"\"\" Third Party \"\"\"\n",
    "import seaborn as sns\n",
    "import numpy as np\n",
    "import pandas as pd\n",
    "import statsmodels"
   ]
  },
  {
   "cell_type": "markdown",
   "metadata": {},
   "source": [
    "# Data Cleaning"
   ]
  },
  {
   "cell_type": "markdown",
   "metadata": {},
   "source": [
    "This data provides information of soccer players who played in the English premier League from 1880 to 2021. The dataset includes players’ year of birth, height, and positions. Our research will mainly focus on datasets of players from 1950 to 2021 and their height and positions to determine the overall trend of change in player’s height and its difference by positions. This data will be compared and analyzed to other datasets of player’s of different regions or leagues "
   ]
  },
  {
   "cell_type": "code",
   "execution_count": null,
   "metadata": {},
   "outputs": [],
   "source": [
    "\"\"\" 1. Download data (Worldfootball Player Height Data) \"\"\"\n",
    "with open(\"./crawler.py\", \"r\") as f:\n",
    "  file = f.read()\n",
    "print(file)"
   ]
  },
  {
   "cell_type": "markdown",
   "metadata": {},
   "source": [
    "Download zip of European Soccer dataset manually from https://www.kaggle.com/stefanoleone992/fifa-21-complete-player-dataset\n",
    "\n",
    "This dataset provides all the information of more than 8,000 players extracted from the last editions of FIFA Series from 2015 to 2021. The dataset includes players’ information of weight, height, nationality, age, and position.  This dataset will be merged with the Dataset of Premier League from 1950 to help determine the overall trend of change in English Premier League’s soccer players’ height from 1950 to 2021. This data will be used to help answer our research question on the player’s attributes such as height and see if a certain range of height influences the player’s overall rating. Further, we will visualize this trend in height by positions to see how significant height is in each position."
   ]
  },
  {
   "cell_type": "code",
   "execution_count": null,
   "metadata": {},
   "outputs": [],
   "source": [
    "\"\"\" Load data from SQlite and json and Convert to Dataframe \"\"\"\n",
    "# Unzip sqlite file (Uncompressed File is large for git)\n",
    "with zipfile.ZipFile(\"kaggle.zip\", 'r') as zip_ref:\n",
    "  zip_ref.extractall(\".\")\n",
    "\n",
    "\n",
    "print(\"Loading Historical Height Data\")\n",
    "with open(\"players.json\", \"r\") as f:\n",
    "  player_history = pd.DataFrame(json.load(f), columns=[\"Name\", \"Year\", \"Team\", \"Birth\", \"Height\", \"Position\"])\n",
    "print(player_history.describe)\n",
    "print(player_history.head())"
   ]
  },
  {
   "cell_type": "markdown",
   "metadata": {},
   "source": [
    "We first make all the columns to be lower case for the consistency."
   ]
  },
  {
   "cell_type": "code",
   "execution_count": null,
   "metadata": {},
   "outputs": [],
   "source": [
    "player_history.columns = list(map(str.lower, player_history.columns))\n",
    "player_history.reset_index(inplace = True, drop = True)\n",
    "player_history.head()"
   ]
  },
  {
   "cell_type": "markdown",
   "metadata": {},
   "source": [
    "Removing all the unimportant columns from the dataset.\n",
    "In the players' postition column, the original dataset has very specific position values such as \"CAM\" or \"CDM\". To normalize, we change the values include \"B\" (stands for Back) to \"DF\" (Defender), value include \"M\" (stands for Middle) to \"MF\" (MID )"
   ]
  },
  {
   "cell_type": "code",
   "execution_count": null,
   "metadata": {},
   "outputs": [],
   "source": [
    "ignore_columns = ['short_name', 'sofifa_id', 'player_url', 'potential', 'value_eur',\n",
    " 'wage_eur','international_reputation','weak_foot','skill_moves','work_rate','body_type', 'real_face','release_clause_eur',\n",
    " 'player_tags','team_jersey_number','loaned_from', 'contract_valid_until','nation_jersey_number','pace','shooting',\n",
    " 'passing', 'dribbling', 'defending', 'physic', 'gk_diving', 'gk_handling','gk_kicking', 'gk_reflexes', 'gk_speed',\n",
    " 'gk_positioning','player_traits', 'attacking_crossing', 'attacking_finishing', 'attacking_heading_accuracy', 'attacking_short_passing',\n",
    " 'attacking_volleys', 'skill_dribbling', 'skill_curve', 'skill_fk_accuracy', 'skill_long_passing', 'skill_ball_control',\n",
    " 'movement_acceleration', 'movement_sprint_speed', 'movement_agility', 'movement_reactions', 'movement_balance', 'power_shot_power',\n",
    " 'power_jumping', 'power_stamina', 'power_strength', 'power_long_shots', 'mentality_aggression', 'mentality_interceptions',\n",
    " 'mentality_positioning', 'mentality_vision', 'mentality_penalties', 'mentality_composure', 'defending_marking', 'defending_standing_tackle',\n",
    " 'defending_sliding_tackle', 'goalkeeping_diving', 'goalkeeping_handling', 'goalkeeping_kicking', 'goalkeeping_positioning',\n",
    " 'goalkeeping_reflexes', 'ls', 'st', 'rs', 'lw', 'lf', 'cf','rf', 'rw', 'lam', 'cam', 'ram', 'lm', 'lcm', 'cm', 'rcm', 'rm', 'lwb',\n",
    " 'ldm', 'cdm', 'rdm', 'rwb', 'lb', 'lcb', 'cb', 'rcb', 'rb', 'league_rank', 'preferred_foot', 'team_position', 'nation_position']\n",
    "\n",
    "def clean_position(d):\n",
    "    if 'B' in d:\n",
    "        return 'DF'\n",
    "    elif 'M' in d:\n",
    "        return 'MF'\n",
    "    elif 'GK' in d:\n",
    "        return 'GK'\n",
    "    else:\n",
    "        return 'FW'\n",
    "\n",
    "df = {}\n",
    "for y in range(2015, 2022):\n",
    "    df[y] = pd.read_csv(f\"players_{str(y % 100)}.csv\").drop(columns = ignore_columns)\n",
    "    df[y]['year'] = y\n",
    "    df[y]['player_positions'] = df[y]['player_positions'].apply(clean_position)\n"
   ]
  },
  {
   "cell_type": "markdown",
   "metadata": {},
   "source": [
    "We merge the values of dataset and change the column names to easier understandable names."
   ]
  },
  {
   "cell_type": "code",
   "execution_count": null,
   "metadata": {},
   "outputs": [],
   "source": [
    "df = pd.concat(df.values())\n",
    "df.columns = list(map(str.lower, df.columns))\n",
    "df.rename(columns = {'long_name':'name', 'club_name': 'team', 'dob': 'birth', 'weight_kg': 'weight', 'height_cm':'height'}, inplace = True)\n",
    "df.reset_index(inplace = True, drop = True)\n",
    "df.head()"
   ]
  },
  {
   "cell_type": "code",
   "execution_count": null,
   "metadata": {},
   "outputs": [],
   "source": [
    "players = pd.concat([df, player_history])\n",
    "players.reset_index(inplace = True, drop = True)\n",
    "players.head()"
   ]
  },
  {
   "cell_type": "markdown",
   "metadata": {},
   "source": [
    "# Names\n",
    "\n",
    "\n",
    "* Sean Hwang\n",
    "* Minhan Lee\n",
    "* Giho Kim\n",
    "* Teahyung Kim"
   ]
  },
  {
   "cell_type": "markdown",
   "metadata": {},
   "source": [
    "Is there a relationship between the height of the soccer players and their entrance to the English premier league and their performance?\n",
    "\n",
    "We will analyze the trends of the height of all positions in the English premier league from the 1950s.\n",
    "\n",
    "Also, we will analyze existing professional goalkeepers' height and performance ratings measured by FIFA, international Football Association."
   ]
  },
  {
   "cell_type": "code",
   "execution_count": 1,
   "metadata": {},
   "outputs": [],
   "source": [
    "\"\"\" Bulitins \"\"\"\n",
    "import json\n",
    "import sqlite3\n",
    "import zipfile\n",
    "\n",
    "\"\"\" Third Party \"\"\"\n",
    "import seaborn as sns\n",
    "import numpy as np\n",
    "import pandas as pd\n",
    "import statsmodels"
   ]
  },
  {
   "cell_type": "markdown",
   "metadata": {},
   "source": [
    "This data provides information of soccer players who played in the English premier League from 1880 to 2021. The dataset includes players’ year of birth, height, and positions. Our research will mainly focus on datasets of players from 1950 to 2021 and their height and positions to determine the overall trend of change in player’s height and its difference by positions. This data will be compared and analyzed to other datasets of player’s of different regions or leagues "
   ]
  },
  {
   "cell_type": "markdown",
   "metadata": {},
   "source": [
    "Download zip of European Soccer dataset manually from https://www.kaggle.com/stefanoleone992/fifa-21-complete-player-dataset\n",
    "\n",
    "This dataset provides all the information of more than 8,000 players extracted from the last editions of FIFA Series from 2015 to 2021. The dataset includes players’ information of weight, height, nationality, age, and position.  This dataset will be merged with the Dataset of Premier League from 1950 to help determine the overall trend of change in English Premier League’s soccer players’ height from 1950 to 2021. This data will be used to help answer our research question on the player’s attributes such as height and see if a certain range of height influences the player’s overall rating. Further, we will visualize this trend in height by positions to see how significant height is in each position."
   ]
  },
  {
   "cell_type": "markdown",
   "metadata": {},
   "source": [
    "We first make all the columns to be lower case for the consistency."
   ]
  },
  {
   "cell_type": "markdown",
   "metadata": {},
   "source": [
    "Removing all the unimportant columns from the dataset.\n",
    "In the players' postition column, the original dataset has very specific position values such as \"CAM\" or \"CDM\". To normalize, we change the values include \"B\" (stands for Back) to \"DF\" (Defender), value include \"M\" (stands for Middle) to \"MF\" (MID )"
   ]
  },
  {
   "cell_type": "markdown",
   "metadata": {},
   "source": [
    "We merge the values of dataset and change the column names to easier understandable names."
   ]
  },
  {
   "cell_type": "code",
   "execution_count": 7,
   "metadata": {},
   "outputs": [
    {
     "data": {
      "text/html": [
       "<div>\n",
       "<style scoped>\n",
       "    .dataframe tbody tr th:only-of-type {\n",
       "        vertical-align: middle;\n",
       "    }\n",
       "\n",
       "    .dataframe tbody tr th {\n",
       "        vertical-align: top;\n",
       "    }\n",
       "\n",
       "    .dataframe thead th {\n",
       "        text-align: right;\n",
       "    }\n",
       "</style>\n",
       "<table border=\"1\" class=\"dataframe\">\n",
       "  <thead>\n",
       "    <tr style=\"text-align: right;\">\n",
       "      <th></th>\n",
       "      <th>name</th>\n",
       "      <th>age</th>\n",
       "      <th>birth</th>\n",
       "      <th>height</th>\n",
       "      <th>weight</th>\n",
       "      <th>nationality</th>\n",
       "      <th>team</th>\n",
       "      <th>league_name</th>\n",
       "      <th>overall</th>\n",
       "      <th>player_positions</th>\n",
       "      <th>joined</th>\n",
       "      <th>year</th>\n",
       "      <th>position</th>\n",
       "    </tr>\n",
       "  </thead>\n",
       "  <tbody>\n",
       "    <tr>\n",
       "      <th>0</th>\n",
       "      <td>Lionel Andrés Messi Cuccittini</td>\n",
       "      <td>27.0</td>\n",
       "      <td>1987-06-24</td>\n",
       "      <td>169</td>\n",
       "      <td>67.0</td>\n",
       "      <td>Argentina</td>\n",
       "      <td>FC Barcelona</td>\n",
       "      <td>Spain Primera Division</td>\n",
       "      <td>93.0</td>\n",
       "      <td>FW</td>\n",
       "      <td>2004-07-01</td>\n",
       "      <td>2015</td>\n",
       "      <td>NaN</td>\n",
       "    </tr>\n",
       "    <tr>\n",
       "      <th>1</th>\n",
       "      <td>Cristiano Ronaldo dos Santos Aveiro</td>\n",
       "      <td>29.0</td>\n",
       "      <td>1985-02-05</td>\n",
       "      <td>185</td>\n",
       "      <td>80.0</td>\n",
       "      <td>Portugal</td>\n",
       "      <td>Real Madrid</td>\n",
       "      <td>Spain Primera Division</td>\n",
       "      <td>92.0</td>\n",
       "      <td>MF</td>\n",
       "      <td>2009-07-01</td>\n",
       "      <td>2015</td>\n",
       "      <td>NaN</td>\n",
       "    </tr>\n",
       "    <tr>\n",
       "      <th>2</th>\n",
       "      <td>Arjen Robben</td>\n",
       "      <td>30.0</td>\n",
       "      <td>1984-01-23</td>\n",
       "      <td>180</td>\n",
       "      <td>80.0</td>\n",
       "      <td>Netherlands</td>\n",
       "      <td>FC Bayern München</td>\n",
       "      <td>German 1. Bundesliga</td>\n",
       "      <td>90.0</td>\n",
       "      <td>MF</td>\n",
       "      <td>2009-08-28</td>\n",
       "      <td>2015</td>\n",
       "      <td>NaN</td>\n",
       "    </tr>\n",
       "    <tr>\n",
       "      <th>3</th>\n",
       "      <td>Zlatan Ibrahimović</td>\n",
       "      <td>32.0</td>\n",
       "      <td>1981-10-03</td>\n",
       "      <td>195</td>\n",
       "      <td>95.0</td>\n",
       "      <td>Sweden</td>\n",
       "      <td>Paris Saint-Germain</td>\n",
       "      <td>French Ligue 1</td>\n",
       "      <td>90.0</td>\n",
       "      <td>FW</td>\n",
       "      <td>2012-07-01</td>\n",
       "      <td>2015</td>\n",
       "      <td>NaN</td>\n",
       "    </tr>\n",
       "    <tr>\n",
       "      <th>4</th>\n",
       "      <td>Manuel Neuer</td>\n",
       "      <td>28.0</td>\n",
       "      <td>1986-03-27</td>\n",
       "      <td>193</td>\n",
       "      <td>92.0</td>\n",
       "      <td>Germany</td>\n",
       "      <td>FC Bayern München</td>\n",
       "      <td>German 1. Bundesliga</td>\n",
       "      <td>90.0</td>\n",
       "      <td>GK</td>\n",
       "      <td>2011-07-01</td>\n",
       "      <td>2015</td>\n",
       "      <td>NaN</td>\n",
       "    </tr>\n",
       "  </tbody>\n",
       "</table>\n",
       "</div>"
      ],
      "text/plain": [
       "                                  name   age       birth  height  weight  \\\n",
       "0       Lionel Andrés Messi Cuccittini  27.0  1987-06-24     169    67.0   \n",
       "1  Cristiano Ronaldo dos Santos Aveiro  29.0  1985-02-05     185    80.0   \n",
       "2                         Arjen Robben  30.0  1984-01-23     180    80.0   \n",
       "3                   Zlatan Ibrahimović  32.0  1981-10-03     195    95.0   \n",
       "4                         Manuel Neuer  28.0  1986-03-27     193    92.0   \n",
       "\n",
       "   nationality                 team             league_name  overall  \\\n",
       "0    Argentina         FC Barcelona  Spain Primera Division     93.0   \n",
       "1     Portugal          Real Madrid  Spain Primera Division     92.0   \n",
       "2  Netherlands    FC Bayern München    German 1. Bundesliga     90.0   \n",
       "3       Sweden  Paris Saint-Germain          French Ligue 1     90.0   \n",
       "4      Germany    FC Bayern München    German 1. Bundesliga     90.0   \n",
       "\n",
       "  player_positions      joined  year position  \n",
       "0               FW  2004-07-01  2015      NaN  \n",
       "1               MF  2009-07-01  2015      NaN  \n",
       "2               MF  2009-08-28  2015      NaN  \n",
       "3               FW  2012-07-01  2015      NaN  \n",
       "4               GK  2011-07-01  2015      NaN  "
      ]
     },
     "execution_count": 7,
     "metadata": {},
     "output_type": "execute_result"
    }
   ],
   "source": [
    "players = pd.concat([df, player_history])\n",
    "players.reset_index(inplace = True, drop = True)\n",
    "players.head()"
   ]
  }
 ],
 "metadata": {
  "kernelspec": {
   "display_name": "Python 3",
   "language": "python",
   "name": "python3"
  },
  "language_info": {
   "codemirror_mode": {
    "name": "ipython",
    "version": 3
   },
   "file_extension": ".py",
   "mimetype": "text/x-python",
   "name": "python",
   "nbconvert_exporter": "python",
   "pygments_lexer": "ipython3",
   "version": "3.9.7"
  }
 },
 "nbformat": 4,
 "nbformat_minor": 2
}
