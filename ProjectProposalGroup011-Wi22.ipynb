{
 "cells": [
  {
   "cell_type": "markdown",
   "metadata": {},
   "source": [
    "# COGS 108 - Final Project Proposal"
   ]
  },
  {
   "cell_type": "markdown",
   "metadata": {},
   "source": [
    "# Names\n",
    "\n",
    "- Gyuseung Hwang\n",
    "- Minhan Lee\n",
    "- Giho Kim\n",
    "- Taehyung Kim"
   ]
  },
  {
   "cell_type": "markdown",
   "metadata": {},
   "source": [
    "# Research Question"
   ]
  },
  {
   "cell_type": "markdown",
   "metadata": {},
   "source": [
    "\n"
   ]
  },
  {
   "cell_type": "markdown",
   "metadata": {},
   "source": [
    "## Background"
   ]
  },
  {
   "cell_type": "markdown",
   "metadata": {},
   "source": [
    "Many people probably have heard about the “World Cup”, the most popular international sport (soccer) competition that is held every four years. Many people are fascinated by the play of famous soccer players such as Lionel Messi and Christiano Ronaldo who show fantastic soccer skills and are regarded as gifted.\n",
    "\n",
    "The famous soccer video game, EA sports’ FIFA series, provides players’ bio-information and attributes such as heights, weights, stats of cross, dribble, running speed, etc. Some critics argue that soccer players should be talented biologically. For example, a goalkeeper has to be tall so that they can block more easily. In our study, we are going to analyze the relationship between players' bio-information and performance."
   ]
  },
  {
   "cell_type": "markdown",
   "metadata": {},
   "source": [
    "## Prior Work"
   ]
  },
  {
   "cell_type": "markdown",
   "metadata": {},
   "source": [
    "A similar study was conducted to find out the age of Olympic athletes that give the highest performance. [The 2016 research from Exercise Physiology Laboratory](https://www.researchgate.net/publication/312632883_Age_of_peak_performance_in_Olympic_sports_A_comparative_research_among_disciplines) measured the performance of 3548 athletes from various types of sports. The result of the study indicated that mostly younger athletes had higher performance than older athletes. Since the range of athletes’ age was 14.0 to 52.8 and the age of athletes who recorded high performance was mostly middle of the ’20s, the study proved that younger athletes have higher performance than older athletes.\n",
    "\n",
    "[Another research conducted in 2019](https://pubmed.ncbi.nlm.nih.gov/31268996/) agrees with the study stated above. The study was to find out the effects of age on soccer players’ performance. They separated soccer players into 5 age groups: (<20 years, 20-24.9 years, 25-29.9 years, 30-34.9 years, and ≥35 years). The result of the study showed that older players’ performance is significantly less than the performance of younger players. For example, total distance, medium-speed running distance, high-speed running (HSR) distance, very HSR (VHSR) distance, sprint distance, and maximum running speed of older players were less than those of younger players. Therefore, the study indicated that younger soccer players have higher performance than older soccer players.\n",
    "\n",
    "Although two researches show a strong relationship between the age of soccer players and their performance, they only consider a factor: age. It is true that researches stated above help answering our group’s question, but they do not directly answer our question. We also want to find out whether the height and weight of players affect players’ playing performance."
   ]
  },
  {
   "cell_type": "markdown",
   "metadata": {},
   "source": [
    "# Hypothesis\n"
   ]
  },
  {
   "cell_type": "markdown",
   "metadata": {},
   "source": [
    "* We believe that younger or taller soccer players have higher performance than older or shorter players.\n",
    "* Since personal information such as height, weight, and age is critical point that determines most athletes playing performance,\n",
    "* We think that performance of soccer players also have high relationship with these personal information.\n",
    "* We also assume players who are ambidextrous will show greater performance than those who are not."
   ]
  },
  {
   "cell_type": "markdown",
   "metadata": {},
   "source": [
    "# Data"
   ]
  },
  {
   "cell_type": "markdown",
   "metadata": {},
   "source": [
    "All our data was gathered from http://www.football-data.co.uk/, https://sofifa.com/, and which was preprocessed and combined in https://www.kaggle.com/hugomathien/soccer. These data were collected from EA Sports's FIFA video game series by analyzing games from sports analysts from live soccer matches. \n",
    "\n",
    "Data that we will mostly use are the following variables\n",
    "* Over 10,000 players\n",
    "  * Position (Defender, Goal Keeper, etc), playing team data\n",
    "  * Numeric height, weight data\n",
    "  * Player’s Rating and Potential data\n",
    "* 11 European league data 8 seasons’ player rating\n",
    "\n",
    "Each dataset contains a FIFA ID which is an identifier for an association football player per FIFA.\n",
    "Using this unique id, we can join multiple tables and merge to a single dataframe.\n",
    "\n",
    "Some concerns about our datasets are following\n",
    "\n",
    "* Biological information must be different every year for\n",
    "  * For younger players, their height might be changing every year\n",
    "* Performances might not be normalized in different leagues and positions\n",
    "* Might have some missing data, incorrect data (extremely large or small data)\n",
    "\n",
    "Therefore, we should perform EDA and data mangling and specifically address those concerns before running analysis\n"
   ]
  },
  {
   "cell_type": "markdown",
   "metadata": {},
   "source": [
    "# Ethics & Privacy"
   ]
  },
  {
   "cell_type": "markdown",
   "metadata": {},
   "source": [
    "All of our datasets will come from public datasets.\n",
    "\n",
    "The data of +10,000 players and team attributes from +25,000 matches are sourced from EA Sports' FIFA video game series that provides player information publicly available.\n",
    "\n",
    "EA Sports and FIFA, which is an international Football Association,\n",
    "has made a licensing contract extending till 2022 that both agreed upon assigning legal rights to publicly use data of more than 10,000 players who belong to FIFA to EA Sports, thus authorized publication of player information in their gaming series without any potential issues with privacy.\n",
    "\n",
    "Also, the collected information about players’ region of birth, date of birth, height, weight, foot preference, race, and gender is directly collected/measured from players themselves with the assistance of team doctors that will be reported to FIFA.\n",
    "\n",
    "This ensures non-biased datasets, and since collected statistics will be dealt only with presumption of their performance in the study and is ethically obtained, this would not result in any violation of ethics."
   ]
  },
  {
   "cell_type": "markdown",
   "metadata": {},
   "source": [
    "# Team Expectations "
   ]
  },
  {
   "cell_type": "markdown",
   "metadata": {},
   "source": [
    "* Sean Hwang: Data wrangling, Data cleaning\n",
    "* Minhan Lee Data wrangling, Data Cleaning\n",
    "* Giho Kim: Data analysis, EDA\n",
    "* Taehyung KIm: Data analysis, EDA"
   ]
  },
  {
   "cell_type": "markdown",
   "metadata": {},
   "source": [
    "# Project Timeline Proposal"
   ]
  },
  {
   "cell_type": "markdown",
   "metadata": {},
   "source": [
    "| Meeting Date  | Meeting Time| Completed Before Meeting  | Discuss at Meeting |\n",
    "|---|---|---|---|\n",
    "| 1/27  |  3 PM | Share about COGS 108 Expectation, Set meeting times; Read / Watch lectures  | Search for variety of Research topics, Background Research on our topic  |\n",
    "| 2/3  |  3 PM | Learn VSCode, Git, Pandas | Gather Data, Perform Simple EDA, Learn about different analysis method |\n",
    "| 2/10  |  3 PM | Learn sns, Find more data | Perform Multiple EDA, run multiple correlation test |\n",
    "| 2/17  |  3 PM | Learn more Data clearning libraries | Perform Data Analysis |\n",
    "| 2/24  |  3 PM | Learn sklearn and statsmodel API | Code Cleaning, Reviewing |\n",
    "| 3/3  |  3 PM | Write review | Review each other's review |"
   ]
  }
 ],
 "metadata": {
  "kernelspec": {
   "display_name": "Python 3",
   "language": "python",
   "name": "python3"
  },
  "language_info": {
   "codemirror_mode": {
    "name": "ipython",
    "version": 3
   },
   "file_extension": ".py",
   "mimetype": "text/x-python",
   "name": "python",
   "nbconvert_exporter": "python",
   "pygments_lexer": "ipython3",
   "version": "3.9.7"
  }
 },
 "nbformat": 4,
 "nbformat_minor": 2
}
